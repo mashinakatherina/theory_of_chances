{
 "cells": [
  {
   "cell_type": "code",
   "execution_count": 6,
   "metadata": {},
   "outputs": [],
   "source": [
    "import pandas as pd\n",
    "import numpy as np\n",
    "import math \n",
    "import matplotlib\n",
    "import matplotlib.pyplot as plt\n",
    "\n",
    "data = pd.read_csv('city2.csv')"
   ]
  },
  {
   "cell_type": "markdown",
   "metadata": {},
   "source": [
    "# Лабораторная работа № 2 город: Сочи\n",
    "https://www.gismeteo.ru/diary/5233/2020/3/"
   ]
  },
  {
   "cell_type": "code",
   "execution_count": 7,
   "metadata": {},
   "outputs": [
    {
     "name": "stdout",
     "output_type": "stream",
     "text": [
      "Вариационный ряд:  [ 5  8  9  9 10 10 11 12 12 12 12 13 13 13 13 13 13 13 14 14 14 14 15 15\n",
      " 16 17 18 18]\n"
     ]
    }
   ],
   "source": [
    "data_list = data['data'].values\n",
    "data_list.sort()\n",
    "print('Вариационный ряд: ',data_list)"
   ]
  },
  {
   "cell_type": "markdown",
   "metadata": {},
   "source": [
    "1.Определить основные числовые характеристики статистического\n",
    "распределения и представить в виде таблицы.\n",
    "\n",
    "Выборочное среднее xn \n",
    "Дисперсию Dr\n",
    "Коэффициент вариации V"
   ]
  },
  {
   "cell_type": "code",
   "execution_count": 3,
   "metadata": {
    "scrolled": true
   },
   "outputs": [
    {
     "name": "stdout",
     "output_type": "stream",
     "text": [
      "Xn =  12.714285714285714\n"
     ]
    }
   ],
   "source": [
    "x = data_list.mean()\n",
    "print('Xn = ', x)"
   ]
  },
  {
   "cell_type": "code",
   "execution_count": 4,
   "metadata": {},
   "outputs": [
    {
     "name": "stdout",
     "output_type": "stream",
     "text": [
      "Dr =  7.821428571428571\n"
     ]
    }
   ],
   "source": [
    "array_d = data['data'].values\n",
    "array_d.sort()\n",
    "i = 0\n",
    "for a in array_d:\n",
    "    array_d[i] = (a - x) * (a - x)\n",
    "    i += 1\n",
    "Dr = array_d.mean()\n",
    "print('Dr = ', Dr)"
   ]
  },
  {
   "cell_type": "code",
   "execution_count": 5,
   "metadata": {
    "scrolled": true
   },
   "outputs": [
    {
     "name": "stdout",
     "output_type": "stream",
     "text": [
      "V =  0.21996372978035833\n"
     ]
    }
   ],
   "source": [
    "V = math.sqrt( Dr ) / x\n",
    "print('V = ', V)"
   ]
  },
  {
   "cell_type": "markdown",
   "metadata": {},
   "source": [
    "    2. Отобразить на графиках гистограммы относительных частот,полигоны частот."
   ]
  },
  {
   "cell_type": "code",
   "execution_count": 9,
   "metadata": {
    "scrolled": true
   },
   "outputs": [
    {
     "data": {
      "image/png": "[encoded data removed]",
      "text/plain": [
       "<Figure size 432x288 with 1 Axes>"
      ]
     },
     "metadata": {
      "needs_background": "light"
     },
     "output_type": "display_data"
    }
   ],
   "source": [
    "n, bins, patches = plt.hist(data_list, [i for i in range(min(data_list), max(data_list) + 2, 1)], histtype='bar', rwidth=1)\n",
    "x_ticks = plt.xticks(np.arange(min(data_list), max(data_list) + 2, step = 1))\n",
    "y_ticks = plt.yticks(np.arange(0, 7, step = 1), [str(i) for i in range(0, 7, 1)])\n",
    "x_label = plt.xlabel('xi', fontsize = 12)\n",
    "y_label = plt.ylabel('ni', fontsize = 12)\n",
    "title = plt.title('Полигон частот', fontweight = \"bold\")\n",
    "plt.grid()"
   ]
  },
  {
   "cell_type": "markdown",
   "metadata": {},
   "source": [
    " Мода Mоd – значение аргумента в точке максимума. Медиана Med - число стоящее посередине упорядоченного числового ряда."
   ]
  },
  {
   "cell_type": "code",
   "execution_count": 10,
   "metadata": {
    "scrolled": true
   },
   "outputs": [
    {
     "name": "stdout",
     "output_type": "stream",
     "text": [
      "Mod =  13 Med =  13\n"
     ]
    }
   ],
   "source": [
    "v, ind = max( (v, i) for i, v in enumerate(n) )\n",
    "Mod = (bins[ind] + bins[ind + 1]) // 2\n",
    "Med = data_list[13]\n",
    "print('Mod = ', Mod, 'Med = ', Med)"
   ]
  },
  {
   "cell_type": "code",
   "execution_count": 11,
   "metadata": {},
   "outputs": [
    {
     "data": {
      "image/png": "[encoded data removed]",
      "text/plain": [
       "<Figure size 432x288 with 1 Axes>"
      ]
     },
     "metadata": {
      "needs_background": "light"
     },
     "output_type": "display_data"
    }
   ],
   "source": [
    "i = 0\n",
    "tmpa = 0\n",
    "tmp = [0,0,0,0,0,0,0,0,0,0,0,0,0,0,0,0,0,0,0,0,0,0,0,0,0,0,0,0]\n",
    "for a in data_list:\n",
    "    tmpa = a\n",
    "    for t in data_list:\n",
    "        if (t == tmpa):\n",
    "            tmp[i] += 1\n",
    "    i += 1\n",
    "i = 0\n",
    "for t in tmp:\n",
    "    tmp[i] = tmp[i] / 28\n",
    "    i += 1\n",
    "\n",
    "\n",
    "plt.plot(tmp[0:30])\n",
    "plt.grid()\n",
    "x_label = plt.xlabel('xi', fontsize = 12)\n",
    "y_label = plt.ylabel('hi', fontsize = 12)\n",
    "title = plt.title('Гистограмма относительных частот', fontweight = \"bold\")"
   ]
  }
 ],
 "metadata": {
  "kernelspec": {
   "display_name": "Python 3",
   "language": "python",
   "name": "python3"
  },
  "language_info": {
   "codemirror_mode": {
    "name": "ipython",
    "version": 3
   },
   "file_extension": ".py",
   "mimetype": "text/x-python",
   "name": "python",
   "nbconvert_exporter": "python",
   "pygments_lexer": "ipython3",
   "version": "3.8.2"
  }
 },
 "nbformat": 4,
 "nbformat_minor": 4
}
